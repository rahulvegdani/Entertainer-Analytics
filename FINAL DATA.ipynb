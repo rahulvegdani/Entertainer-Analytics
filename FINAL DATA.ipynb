{
 "cells": [
  {
   "cell_type": "code",
   "execution_count": 9,
   "id": "5c33657e-d494-420a-8884-0a2ef286cbd2",
   "metadata": {},
   "outputs": [],
   "source": [
    "import pandas as pd"
   ]
  },
  {
   "cell_type": "code",
   "execution_count": 10,
   "id": "62f544ae-829a-4891-ba0a-ac9179398577",
   "metadata": {},
   "outputs": [],
   "source": [
    "#eb = Entertainer basic table\n",
    "#ebt = Entertainer breakthrough\n",
    "#el = Entertainer lastwork"
   ]
  },
  {
   "cell_type": "code",
   "execution_count": 11,
   "id": "966a3b86-1ca2-4c48-9266-81ebd8981bfc",
   "metadata": {},
   "outputs": [],
   "source": [
    "file_path = r'C:\\Users\\Lenovo\\Desktop\\Jupyter\\Entertainer - Basic Info.xlsx'"
   ]
  },
  {
   "cell_type": "code",
   "execution_count": 12,
   "id": "4ead8e92-c8f2-43cb-970d-2d5aaf0ca9cc",
   "metadata": {},
   "outputs": [],
   "source": [
    "eb = pd.read_excel(file_path)"
   ]
  },
  {
   "cell_type": "code",
   "execution_count": 13,
   "id": "d9e58c5d-1baa-4caa-ad6b-cc52b81d1af1",
   "metadata": {},
   "outputs": [
    {
     "data": {
      "text/html": [
       "<div>\n",
       "<style scoped>\n",
       "    .dataframe tbody tr th:only-of-type {\n",
       "        vertical-align: middle;\n",
       "    }\n",
       "\n",
       "    .dataframe tbody tr th {\n",
       "        vertical-align: top;\n",
       "    }\n",
       "\n",
       "    .dataframe thead th {\n",
       "        text-align: right;\n",
       "    }\n",
       "</style>\n",
       "<table border=\"1\" class=\"dataframe\">\n",
       "  <thead>\n",
       "    <tr style=\"text-align: right;\">\n",
       "      <th></th>\n",
       "      <th>Entertainer</th>\n",
       "      <th>Gender (traditional)</th>\n",
       "      <th>Birth Year</th>\n",
       "    </tr>\n",
       "  </thead>\n",
       "  <tbody>\n",
       "    <tr>\n",
       "      <th>0</th>\n",
       "      <td>Adele</td>\n",
       "      <td>F</td>\n",
       "      <td>1988</td>\n",
       "    </tr>\n",
       "    <tr>\n",
       "      <th>1</th>\n",
       "      <td>Angelina Jolie</td>\n",
       "      <td>F</td>\n",
       "      <td>1975</td>\n",
       "    </tr>\n",
       "    <tr>\n",
       "      <th>2</th>\n",
       "      <td>Aretha Franklin</td>\n",
       "      <td>F</td>\n",
       "      <td>1942</td>\n",
       "    </tr>\n",
       "    <tr>\n",
       "      <th>3</th>\n",
       "      <td>Bette Davis</td>\n",
       "      <td>F</td>\n",
       "      <td>1908</td>\n",
       "    </tr>\n",
       "    <tr>\n",
       "      <th>4</th>\n",
       "      <td>Betty White</td>\n",
       "      <td>F</td>\n",
       "      <td>1922</td>\n",
       "    </tr>\n",
       "  </tbody>\n",
       "</table>\n",
       "</div>"
      ],
      "text/plain": [
       "       Entertainer Gender (traditional)  Birth Year\n",
       "0            Adele                    F        1988\n",
       "1   Angelina Jolie                    F        1975\n",
       "2  Aretha Franklin                    F        1942\n",
       "3      Bette Davis                    F        1908\n",
       "4      Betty White                    F        1922"
      ]
     },
     "execution_count": 13,
     "metadata": {},
     "output_type": "execute_result"
    }
   ],
   "source": [
    "eb.head()"
   ]
  },
  {
   "cell_type": "code",
   "execution_count": 14,
   "id": "292f5535-293e-4b1c-867b-b727aa51327c",
   "metadata": {},
   "outputs": [],
   "source": [
    "file_path = r'C:\\Users\\Lenovo\\Desktop\\Jupyter\\Entertainer - Breakthrough Info.xlsx'"
   ]
  },
  {
   "cell_type": "code",
   "execution_count": 16,
   "id": "8685b2f6-20b6-4e7d-99b2-727dcc7d0ee5",
   "metadata": {},
   "outputs": [],
   "source": [
    "ebt = pd.read_excel(file_path)"
   ]
  },
  {
   "cell_type": "code",
   "execution_count": 17,
   "id": "7be367ad-fe35-41bd-8613-b51395c52a25",
   "metadata": {},
   "outputs": [],
   "source": [
    "ebt.drop('Entertainer',inplace=True,axis=1)"
   ]
  },
  {
   "cell_type": "code",
   "execution_count": 18,
   "id": "e3e02bf8-a80c-4b93-ac33-192a2b32c2f7",
   "metadata": {},
   "outputs": [
    {
     "data": {
      "text/html": [
       "<div>\n",
       "<style scoped>\n",
       "    .dataframe tbody tr th:only-of-type {\n",
       "        vertical-align: middle;\n",
       "    }\n",
       "\n",
       "    .dataframe tbody tr th {\n",
       "        vertical-align: top;\n",
       "    }\n",
       "\n",
       "    .dataframe thead th {\n",
       "        text-align: right;\n",
       "    }\n",
       "</style>\n",
       "<table border=\"1\" class=\"dataframe\">\n",
       "  <thead>\n",
       "    <tr style=\"text-align: right;\">\n",
       "      <th></th>\n",
       "      <th>Year of Breakthrough/#1 Hit/Award Nomination</th>\n",
       "      <th>Breakthrough Name</th>\n",
       "      <th>Year of First Oscar/Grammy/Emmy</th>\n",
       "    </tr>\n",
       "  </thead>\n",
       "  <tbody>\n",
       "    <tr>\n",
       "      <th>0</th>\n",
       "      <td>2008</td>\n",
       "      <td>19</td>\n",
       "      <td>2009.0</td>\n",
       "    </tr>\n",
       "    <tr>\n",
       "      <th>1</th>\n",
       "      <td>1999</td>\n",
       "      <td>Girl, Interrupted</td>\n",
       "      <td>1999.0</td>\n",
       "    </tr>\n",
       "    <tr>\n",
       "      <th>2</th>\n",
       "      <td>1967</td>\n",
       "      <td>I Never Loved a Man (The Way I Love You)</td>\n",
       "      <td>1968.0</td>\n",
       "    </tr>\n",
       "    <tr>\n",
       "      <th>3</th>\n",
       "      <td>1934</td>\n",
       "      <td>Of Human Bondage</td>\n",
       "      <td>1935.0</td>\n",
       "    </tr>\n",
       "    <tr>\n",
       "      <th>4</th>\n",
       "      <td>1952</td>\n",
       "      <td>Life with Elilzabeth</td>\n",
       "      <td>1976.0</td>\n",
       "    </tr>\n",
       "  </tbody>\n",
       "</table>\n",
       "</div>"
      ],
      "text/plain": [
       "   Year of Breakthrough/#1 Hit/Award Nomination  \\\n",
       "0                                          2008   \n",
       "1                                          1999   \n",
       "2                                          1967   \n",
       "3                                          1934   \n",
       "4                                          1952   \n",
       "\n",
       "                          Breakthrough Name  Year of First Oscar/Grammy/Emmy  \n",
       "0                                        19                           2009.0  \n",
       "1                         Girl, Interrupted                           1999.0  \n",
       "2  I Never Loved a Man (The Way I Love You)                           1968.0  \n",
       "3                          Of Human Bondage                           1935.0  \n",
       "4                      Life with Elilzabeth                           1976.0  "
      ]
     },
     "execution_count": 18,
     "metadata": {},
     "output_type": "execute_result"
    }
   ],
   "source": [
    "ebt.head()"
   ]
  },
  {
   "cell_type": "code",
   "execution_count": 19,
   "id": "d6fb22e3-13a2-4ccf-b57a-f22835b2ce74",
   "metadata": {},
   "outputs": [],
   "source": [
    "file_path = r'C:\\Users\\Lenovo\\Desktop\\Jupyter\\Entertainer - Last work Info.xlsx'"
   ]
  },
  {
   "cell_type": "code",
   "execution_count": 20,
   "id": "17c38ecc-6458-4070-b716-02e1b4ed4de1",
   "metadata": {},
   "outputs": [],
   "source": [
    "el = pd.read_excel(file_path)"
   ]
  },
  {
   "cell_type": "code",
   "execution_count": 21,
   "id": "2c7eb59a-e2a1-4c27-b331-e69a634c9a27",
   "metadata": {},
   "outputs": [],
   "source": [
    "el.drop('Entertainer',inplace=True,axis=1)"
   ]
  },
  {
   "cell_type": "code",
   "execution_count": 22,
   "id": "83d3deba-28e4-4d2b-ac9c-3e0992bf1d02",
   "metadata": {},
   "outputs": [
    {
     "data": {
      "text/html": [
       "<div>\n",
       "<style scoped>\n",
       "    .dataframe tbody tr th:only-of-type {\n",
       "        vertical-align: middle;\n",
       "    }\n",
       "\n",
       "    .dataframe tbody tr th {\n",
       "        vertical-align: top;\n",
       "    }\n",
       "\n",
       "    .dataframe thead th {\n",
       "        text-align: right;\n",
       "    }\n",
       "</style>\n",
       "<table border=\"1\" class=\"dataframe\">\n",
       "  <thead>\n",
       "    <tr style=\"text-align: right;\">\n",
       "      <th></th>\n",
       "      <th>Year of Last Major Work (arguable)</th>\n",
       "      <th>Year of Death</th>\n",
       "    </tr>\n",
       "  </thead>\n",
       "  <tbody>\n",
       "    <tr>\n",
       "      <th>0</th>\n",
       "      <td>2016</td>\n",
       "      <td>NaN</td>\n",
       "    </tr>\n",
       "    <tr>\n",
       "      <th>1</th>\n",
       "      <td>2016</td>\n",
       "      <td>NaN</td>\n",
       "    </tr>\n",
       "    <tr>\n",
       "      <th>2</th>\n",
       "      <td>2014</td>\n",
       "      <td>NaN</td>\n",
       "    </tr>\n",
       "    <tr>\n",
       "      <th>3</th>\n",
       "      <td>1989</td>\n",
       "      <td>1989.0</td>\n",
       "    </tr>\n",
       "    <tr>\n",
       "      <th>4</th>\n",
       "      <td>2016</td>\n",
       "      <td>NaN</td>\n",
       "    </tr>\n",
       "  </tbody>\n",
       "</table>\n",
       "</div>"
      ],
      "text/plain": [
       "   Year of Last Major Work (arguable)  Year of Death\n",
       "0                                2016            NaN\n",
       "1                                2016            NaN\n",
       "2                                2014            NaN\n",
       "3                                1989         1989.0\n",
       "4                                2016            NaN"
      ]
     },
     "execution_count": 22,
     "metadata": {},
     "output_type": "execute_result"
    }
   ],
   "source": [
    "el.head()"
   ]
  },
  {
   "cell_type": "code",
   "execution_count": 23,
   "id": "884b604f-6d83-4285-9a94-535846023558",
   "metadata": {},
   "outputs": [],
   "source": [
    "#concating the first two tables (eb and ebt)"
   ]
  },
  {
   "cell_type": "code",
   "execution_count": 24,
   "id": "89931856-da3b-45e2-a78a-c343ab4977e8",
   "metadata": {},
   "outputs": [],
   "source": [
    "main1 = pd.concat([eb,ebt],axis=1)"
   ]
  },
  {
   "cell_type": "code",
   "execution_count": 25,
   "id": "e600c826-e253-4e91-9609-b4f64e5a1738",
   "metadata": {},
   "outputs": [
    {
     "data": {
      "text/html": [
       "<div>\n",
       "<style scoped>\n",
       "    .dataframe tbody tr th:only-of-type {\n",
       "        vertical-align: middle;\n",
       "    }\n",
       "\n",
       "    .dataframe tbody tr th {\n",
       "        vertical-align: top;\n",
       "    }\n",
       "\n",
       "    .dataframe thead th {\n",
       "        text-align: right;\n",
       "    }\n",
       "</style>\n",
       "<table border=\"1\" class=\"dataframe\">\n",
       "  <thead>\n",
       "    <tr style=\"text-align: right;\">\n",
       "      <th></th>\n",
       "      <th>Entertainer</th>\n",
       "      <th>Year of Breakthrough/#1 Hit/Award Nomination</th>\n",
       "      <th>Breakthrough Name</th>\n",
       "      <th>Year of First Oscar/Grammy/Emmy</th>\n",
       "      <th>Year of Breakthrough/#1 Hit/Award Nomination</th>\n",
       "      <th>Breakthrough Name</th>\n",
       "      <th>Year of First Oscar/Grammy/Emmy</th>\n",
       "    </tr>\n",
       "  </thead>\n",
       "  <tbody>\n",
       "    <tr>\n",
       "      <th>0</th>\n",
       "      <td>Adele</td>\n",
       "      <td>2008</td>\n",
       "      <td>19</td>\n",
       "      <td>2009.0</td>\n",
       "      <td>2008</td>\n",
       "      <td>19</td>\n",
       "      <td>2009.0</td>\n",
       "    </tr>\n",
       "    <tr>\n",
       "      <th>1</th>\n",
       "      <td>Angelina Jolie</td>\n",
       "      <td>1999</td>\n",
       "      <td>Girl, Interrupted</td>\n",
       "      <td>1999.0</td>\n",
       "      <td>1999</td>\n",
       "      <td>Girl, Interrupted</td>\n",
       "      <td>1999.0</td>\n",
       "    </tr>\n",
       "    <tr>\n",
       "      <th>2</th>\n",
       "      <td>Aretha Franklin</td>\n",
       "      <td>1967</td>\n",
       "      <td>I Never Loved a Man (The Way I Love You)</td>\n",
       "      <td>1968.0</td>\n",
       "      <td>1967</td>\n",
       "      <td>I Never Loved a Man (The Way I Love You)</td>\n",
       "      <td>1968.0</td>\n",
       "    </tr>\n",
       "    <tr>\n",
       "      <th>3</th>\n",
       "      <td>Bette Davis</td>\n",
       "      <td>1934</td>\n",
       "      <td>Of Human Bondage</td>\n",
       "      <td>1935.0</td>\n",
       "      <td>1934</td>\n",
       "      <td>Of Human Bondage</td>\n",
       "      <td>1935.0</td>\n",
       "    </tr>\n",
       "    <tr>\n",
       "      <th>4</th>\n",
       "      <td>Betty White</td>\n",
       "      <td>1952</td>\n",
       "      <td>Life with Elilzabeth</td>\n",
       "      <td>1976.0</td>\n",
       "      <td>1952</td>\n",
       "      <td>Life with Elilzabeth</td>\n",
       "      <td>1976.0</td>\n",
       "    </tr>\n",
       "  </tbody>\n",
       "</table>\n",
       "</div>"
      ],
      "text/plain": [
       "       Entertainer  Year of Breakthrough/#1 Hit/Award Nomination  \\\n",
       "0            Adele                                          2008   \n",
       "1   Angelina Jolie                                          1999   \n",
       "2  Aretha Franklin                                          1967   \n",
       "3      Bette Davis                                          1934   \n",
       "4      Betty White                                          1952   \n",
       "\n",
       "                          Breakthrough Name  Year of First Oscar/Grammy/Emmy  \\\n",
       "0                                        19                           2009.0   \n",
       "1                         Girl, Interrupted                           1999.0   \n",
       "2  I Never Loved a Man (The Way I Love You)                           1968.0   \n",
       "3                          Of Human Bondage                           1935.0   \n",
       "4                      Life with Elilzabeth                           1976.0   \n",
       "\n",
       "   Year of Breakthrough/#1 Hit/Award Nomination  \\\n",
       "0                                          2008   \n",
       "1                                          1999   \n",
       "2                                          1967   \n",
       "3                                          1934   \n",
       "4                                          1952   \n",
       "\n",
       "                          Breakthrough Name  Year of First Oscar/Grammy/Emmy  \n",
       "0                                        19                           2009.0  \n",
       "1                         Girl, Interrupted                           1999.0  \n",
       "2  I Never Loved a Man (The Way I Love You)                           1968.0  \n",
       "3                          Of Human Bondage                           1935.0  \n",
       "4                      Life with Elilzabeth                           1976.0  "
      ]
     },
     "execution_count": 25,
     "metadata": {},
     "output_type": "execute_result"
    }
   ],
   "source": [
    "main1.head()"
   ]
  },
  {
   "cell_type": "code",
   "execution_count": 26,
   "id": "5c8b649c-6772-469c-860b-1fb75f6427cb",
   "metadata": {},
   "outputs": [],
   "source": [
    "main=pd.concat([main1,el],axis=1)"
   ]
  },
  {
   "cell_type": "code",
   "execution_count": 27,
   "id": "6fcf716d-58dc-4f75-acd6-2e9b1eb18b04",
   "metadata": {},
   "outputs": [
    {
     "data": {
      "text/html": [
       "<div>\n",
       "<style scoped>\n",
       "    .dataframe tbody tr th:only-of-type {\n",
       "        vertical-align: middle;\n",
       "    }\n",
       "\n",
       "    .dataframe tbody tr th {\n",
       "        vertical-align: top;\n",
       "    }\n",
       "\n",
       "    .dataframe thead th {\n",
       "        text-align: right;\n",
       "    }\n",
       "</style>\n",
       "<table border=\"1\" class=\"dataframe\">\n",
       "  <thead>\n",
       "    <tr style=\"text-align: right;\">\n",
       "      <th></th>\n",
       "      <th>Entertainer</th>\n",
       "      <th>Year of Breakthrough/#1 Hit/Award Nomination</th>\n",
       "      <th>Breakthrough Name</th>\n",
       "      <th>Year of First Oscar/Grammy/Emmy</th>\n",
       "      <th>Year of Breakthrough/#1 Hit/Award Nomination</th>\n",
       "      <th>Breakthrough Name</th>\n",
       "      <th>Year of First Oscar/Grammy/Emmy</th>\n",
       "      <th>Year of Last Major Work (arguable)</th>\n",
       "      <th>Year of Death</th>\n",
       "    </tr>\n",
       "  </thead>\n",
       "  <tbody>\n",
       "    <tr>\n",
       "      <th>0</th>\n",
       "      <td>Adele</td>\n",
       "      <td>2008</td>\n",
       "      <td>19</td>\n",
       "      <td>2009.0</td>\n",
       "      <td>2008</td>\n",
       "      <td>19</td>\n",
       "      <td>2009.0</td>\n",
       "      <td>2016</td>\n",
       "      <td>NaN</td>\n",
       "    </tr>\n",
       "    <tr>\n",
       "      <th>1</th>\n",
       "      <td>Angelina Jolie</td>\n",
       "      <td>1999</td>\n",
       "      <td>Girl, Interrupted</td>\n",
       "      <td>1999.0</td>\n",
       "      <td>1999</td>\n",
       "      <td>Girl, Interrupted</td>\n",
       "      <td>1999.0</td>\n",
       "      <td>2016</td>\n",
       "      <td>NaN</td>\n",
       "    </tr>\n",
       "    <tr>\n",
       "      <th>2</th>\n",
       "      <td>Aretha Franklin</td>\n",
       "      <td>1967</td>\n",
       "      <td>I Never Loved a Man (The Way I Love You)</td>\n",
       "      <td>1968.0</td>\n",
       "      <td>1967</td>\n",
       "      <td>I Never Loved a Man (The Way I Love You)</td>\n",
       "      <td>1968.0</td>\n",
       "      <td>2014</td>\n",
       "      <td>NaN</td>\n",
       "    </tr>\n",
       "    <tr>\n",
       "      <th>3</th>\n",
       "      <td>Bette Davis</td>\n",
       "      <td>1934</td>\n",
       "      <td>Of Human Bondage</td>\n",
       "      <td>1935.0</td>\n",
       "      <td>1934</td>\n",
       "      <td>Of Human Bondage</td>\n",
       "      <td>1935.0</td>\n",
       "      <td>1989</td>\n",
       "      <td>1989.0</td>\n",
       "    </tr>\n",
       "    <tr>\n",
       "      <th>4</th>\n",
       "      <td>Betty White</td>\n",
       "      <td>1952</td>\n",
       "      <td>Life with Elilzabeth</td>\n",
       "      <td>1976.0</td>\n",
       "      <td>1952</td>\n",
       "      <td>Life with Elilzabeth</td>\n",
       "      <td>1976.0</td>\n",
       "      <td>2016</td>\n",
       "      <td>NaN</td>\n",
       "    </tr>\n",
       "  </tbody>\n",
       "</table>\n",
       "</div>"
      ],
      "text/plain": [
       "       Entertainer  Year of Breakthrough/#1 Hit/Award Nomination  \\\n",
       "0            Adele                                          2008   \n",
       "1   Angelina Jolie                                          1999   \n",
       "2  Aretha Franklin                                          1967   \n",
       "3      Bette Davis                                          1934   \n",
       "4      Betty White                                          1952   \n",
       "\n",
       "                          Breakthrough Name  Year of First Oscar/Grammy/Emmy  \\\n",
       "0                                        19                           2009.0   \n",
       "1                         Girl, Interrupted                           1999.0   \n",
       "2  I Never Loved a Man (The Way I Love You)                           1968.0   \n",
       "3                          Of Human Bondage                           1935.0   \n",
       "4                      Life with Elilzabeth                           1976.0   \n",
       "\n",
       "   Year of Breakthrough/#1 Hit/Award Nomination  \\\n",
       "0                                          2008   \n",
       "1                                          1999   \n",
       "2                                          1967   \n",
       "3                                          1934   \n",
       "4                                          1952   \n",
       "\n",
       "                          Breakthrough Name  Year of First Oscar/Grammy/Emmy  \\\n",
       "0                                        19                           2009.0   \n",
       "1                         Girl, Interrupted                           1999.0   \n",
       "2  I Never Loved a Man (The Way I Love You)                           1968.0   \n",
       "3                          Of Human Bondage                           1935.0   \n",
       "4                      Life with Elilzabeth                           1976.0   \n",
       "\n",
       "   Year of Last Major Work (arguable)  Year of Death  \n",
       "0                                2016            NaN  \n",
       "1                                2016            NaN  \n",
       "2                                2014            NaN  \n",
       "3                                1989         1989.0  \n",
       "4                                2016            NaN  "
      ]
     },
     "execution_count": 27,
     "metadata": {},
     "output_type": "execute_result"
    }
   ],
   "source": [
    "main.head()"
   ]
  },
  {
   "cell_type": "code",
   "execution_count": 28,
   "id": "ff0651f7-7ac5-4a33-83b9-925085254adf",
   "metadata": {},
   "outputs": [],
   "source": [
    "#saving file into excel"
   ]
  },
  {
   "cell_type": "code",
   "execution_count": 29,
   "id": "cdb34df2-b858-48e8-ae67-45ed25a71df7",
   "metadata": {},
   "outputs": [],
   "source": [
    "new_file = 'FINAL_DATA.xlsx'"
   ]
  },
  {
   "cell_type": "code",
   "execution_count": 30,
   "id": "e134e5b5-f9a9-432a-a3d0-20401a46648d",
   "metadata": {},
   "outputs": [],
   "source": [
    "main.to_excel(new_file)"
   ]
  },
  {
   "cell_type": "code",
   "execution_count": null,
   "id": "aecd0890-4684-498e-9b08-2298379d4fbf",
   "metadata": {},
   "outputs": [],
   "source": []
  }
 ],
 "metadata": {
  "kernelspec": {
   "display_name": "Python 3 (ipykernel)",
   "language": "python",
   "name": "python3"
  },
  "language_info": {
   "codemirror_mode": {
    "name": "ipython",
    "version": 3
   },
   "file_extension": ".py",
   "mimetype": "text/x-python",
   "name": "python",
   "nbconvert_exporter": "python",
   "pygments_lexer": "ipython3",
   "version": "3.12.4"
  }
 },
 "nbformat": 4,
 "nbformat_minor": 5
}
